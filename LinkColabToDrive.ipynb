{
  "nbformat": 4,
  "nbformat_minor": 0,
  "metadata": {
    "colab": {
      "name": "LinkColabToDrive.ipynb",
      "private_outputs": true,
      "provenance": [],
      "authorship_tag": "ABX9TyOd52apAvcoQNhOpRSqtPJz",
      "include_colab_link": true
    },
    "kernelspec": {
      "name": "python3",
      "display_name": "Python 3"
    },
    "language_info": {
      "name": "python"
    },
    "accelerator": "GPU",
    "gpuClass": "standard"
  },
  "cells": [
    {
      "cell_type": "markdown",
      "metadata": {
        "id": "view-in-github",
        "colab_type": "text"
      },
      "source": [
        "<a href=\"https://colab.research.google.com/github/cangnduc/Tensorflow_learning/blob/main/LinkColabToDrive.ipynb\" target=\"_parent\"><img src=\"https://colab.research.google.com/assets/colab-badge.svg\" alt=\"Open In Colab\"/></a>"
      ]
    },
    {
      "cell_type": "code",
      "source": [
        "from google.colab import drived\n",
        "import pandas as pd\n",
        "drive.mount('/content/gdrive')"
      ],
      "metadata": {
        "id": "JTpJ9GPcDyZj"
      },
      "execution_count": null,
      "outputs": []
    },
    {
      "cell_type": "code",
      "source": [
        "import pandas as pd"
      ],
      "metadata": {
        "id": "rEnKHOKxEZBK"
      },
      "execution_count": null,
      "outputs": []
    },
    {
      "cell_type": "code",
      "source": [
        "file =  'https://raw.githubusercontent.com/cangnduc/Tensorflow_learning/main/Car_data%20KNN/car.data'"
      ],
      "metadata": {
        "id": "cKVBCI2SEoYA"
      },
      "execution_count": null,
      "outputs": []
    },
    {
      "cell_type": "code",
      "source": [
        "df =pd.read_csv(file, index_col =None)\n",
        "len(df)"
      ],
      "metadata": {
        "id": "FF5bXiClFRB4"
      },
      "execution_count": null,
      "outputs": []
    },
    {
      "cell_type": "code",
      "source": [
        "df\n",
        "\n"
      ],
      "metadata": {
        "id": "KX4js9bXF2eg"
      },
      "execution_count": null,
      "outputs": []
    },
    {
      "cell_type": "code",
      "source": [
        "len(df[df['msrp_price']>100])/len(df)"
      ],
      "metadata": {
        "id": "PjTuAoAhUZll"
      },
      "execution_count": null,
      "outputs": []
    },
    {
      "cell_type": "code",
      "source": [
        ""
      ],
      "metadata": {
        "id": "omp0w794ZIAZ"
      },
      "execution_count": null,
      "outputs": []
    }
  ]
}