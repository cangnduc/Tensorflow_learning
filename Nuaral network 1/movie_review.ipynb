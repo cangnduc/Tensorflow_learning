{
 "cells": [
  {
   "cell_type": "code",
   "execution_count": 2,
   "id": "3773cea8",
   "metadata": {},
   "outputs": [],
   "source": [
    "import tensorflow as tf\n",
    "from tensorflow import keras\n",
    "import numpy as np\n",
    "import pandas as pd"
   ]
  },
  {
   "cell_type": "code",
   "execution_count": 51,
   "id": "ad54fb0d",
   "metadata": {},
   "outputs": [],
   "source": [
    "(x_train, y_train),(x,y_test) = keras.datasets.imdb.load_data(num_words=10000)\n",
    "# Retrieve the word index file mapping words to indices\n",
    "word_index = keras.datasets.imdb.get_word_index()\n",
    "# Reverse the word index to obtain a dict mapping indices to words\n",
    "inverted_word_index = dict((i, word) for (word, i) in word_index.items())\n",
    "# Decode the first sequence in the dataset\n",
    "decoded_sequence = \" \".join(inverted_word_index[i] for i in x_train[0])"
   ]
  },
  {
   "cell_type": "code",
   "execution_count": 52,
   "id": "31aa7aa8",
   "metadata": {},
   "outputs": [
    {
     "data": {
      "text/plain": [
       "\"the as there in at by br of sure many br of proving no only women was than doesn't as you never of hat night that with ignored they bad out superman plays of how star so stories film comes defense date of wide they don't do that had with of hollywood br of my seeing fan this of pop out body shots in having because cause it's stick passing first were enjoys for from look seven sense from me and die in character as cuban issues but is you that isn't one song just is him less are strongly not are you that different just even by this of you there is eight when it part are film's love film's 80's was big also light don't and as it in character looked cinematography so stories is far br man acting\""
      ]
     },
     "execution_count": 52,
     "metadata": {},
     "output_type": "execute_result"
    }
   ],
   "source": [
    "def decode_text(text):\n",
    "    return \" \".join(inverted_word_index[i] for i in text)\n",
    "decode_text(x_train[2])"
   ]
  },
  {
   "cell_type": "code",
   "execution_count": null,
   "id": "828bc84a",
   "metadata": {},
   "outputs": [],
   "source": []
  },
  {
   "cell_type": "code",
   "execution_count": 53,
   "id": "06184d46",
   "metadata": {},
   "outputs": [],
   "source": [
    "inverted_word_index[0] = \"None\"\n",
    "x_test = keras.preprocessing.sequence.pad_sequences(x_test,value=0,maxlen=230,padding=\"post\")\n",
    "x_train = keras.preprocessing.sequence.pad_sequences(x_train,value=0,maxlen=230,padding=\"post\")"
   ]
  },
  {
   "cell_type": "code",
   "execution_count": 54,
   "id": "3ccde0cf",
   "metadata": {},
   "outputs": [
    {
     "name": "stdout",
     "output_type": "stream",
     "text": [
      "Model: \"sequential_3\"\n",
      "_________________________________________________________________\n",
      "Layer (type)                 Output Shape              Param #   \n",
      "=================================================================\n",
      "embedding_2 (Embedding)      (None, None, 16)          400000    \n",
      "_________________________________________________________________\n",
      "global_average_pooling1d_1 ( (None, 16)                0         \n",
      "_________________________________________________________________\n",
      "dense_2 (Dense)              (None, 16)                272       \n",
      "_________________________________________________________________\n",
      "dense_3 (Dense)              (None, 1)                 17        \n",
      "=================================================================\n",
      "Total params: 400,289\n",
      "Trainable params: 400,289\n",
      "Non-trainable params: 0\n",
      "_________________________________________________________________\n"
     ]
    }
   ],
   "source": [
    "model = keras.Sequential()\n",
    "model.add(keras.layers.Embedding(25000,16))\n",
    "model.add(keras.layers.GlobalAveragePooling1D())\n",
    "model.add(keras.layers.Dense(16,activation = 'relu'))\n",
    "model.add(keras.layers.Dense(1,activation = \"sigmoid\"))\n",
    "model.summary()"
   ]
  },
  {
   "cell_type": "code",
   "execution_count": 55,
   "id": "a81b142e",
   "metadata": {},
   "outputs": [],
   "source": [
    "model.compile(optimizer ='adam', loss='binary_crossentropy',metrics=['accuracy'])\n",
    "x_val = x_train[:10000]\n",
    "x_train = x_train[10000:]\n",
    "y_val = y_train[:10000]\n",
    "y_train = y_train[10000:]"
   ]
  },
  {
   "cell_type": "code",
   "execution_count": 58,
   "id": "0950d810",
   "metadata": {},
   "outputs": [
    {
     "name": "stdout",
     "output_type": "stream",
     "text": [
      "Epoch 1/5\n",
      "15000/15000 [==============================] - 98s 7ms/step - loss: 0.1532 - accuracy: 0.9417 - val_loss: 0.3342 - val_accuracy: 0.8788\n",
      "Epoch 2/5\n",
      "15000/15000 [==============================] - 98s 7ms/step - loss: 0.1184 - accuracy: 0.9577 - val_loss: 0.3628 - val_accuracy: 0.8732\n",
      "Epoch 3/5\n",
      "15000/15000 [==============================] - 100s 7ms/step - loss: 0.0996 - accuracy: 0.9657 - val_loss: 0.4374 - val_accuracy: 0.8641\n",
      "Epoch 4/5\n",
      "15000/15000 [==============================] - 101s 7ms/step - loss: 0.0832 - accuracy: 0.9711 - val_loss: 0.4501 - val_accuracy: 0.8656\n",
      "Epoch 5/5\n",
      "15000/15000 [==============================] - 98s 7ms/step - loss: 0.0708 - accuracy: 0.9768 - val_loss: 0.5150 - val_accuracy: 0.8596\n",
      "782/782 [==============================] - 1s 805us/step - loss: 0.5611 - accuracy: 0.8440\n"
     ]
    },
    {
     "data": {
      "text/plain": [
       "[0.5611371994018555, 0.8440399765968323]"
      ]
     },
     "execution_count": 58,
     "metadata": {},
     "output_type": "execute_result"
    }
   ],
   "source": [
    "model.fit(x_train,y_train,epochs =2,batch_size=1,validation_data=(x_val,y_val),verbose=1)\n",
    "model.evaluate(x_test,y_test)"
   ]
  },
  {
   "cell_type": "code",
   "execution_count": 105,
   "id": "8e7d8291",
   "metadata": {},
   "outputs": [
    {
     "data": {
      "text/plain": [
       "array([[0.19668913]], dtype=float32)"
      ]
     },
     "execution_count": 105,
     "metadata": {},
     "output_type": "execute_result"
    }
   ],
   "source": [
    "review = \"it was a great movies i like to see it again\"\n",
    "predict = model.predict(x_test[:1])\n",
    "predict"
   ]
  },
  {
   "cell_type": "code",
   "execution_count": 154,
   "id": "e57ac238",
   "metadata": {},
   "outputs": [
    {
     "data": {
      "text/plain": [
       "array([[0.00082141]], dtype=float32)"
      ]
     },
     "execution_count": 154,
     "metadata": {},
     "output_type": "execute_result"
    }
   ],
   "source": [
    "word_index\n",
    "#review = \"horrible bad horrible bad horrible bad horrible bad horrible bad horrible bad horrible bad horrible bad horrible bad horrible bad horrible bad horrible bad horrible bad horrible bad horrible bad horrible bad horrible bad horrible bad horrible bad horrible bad horrible bad horrible bad horrible bad horrible bad horrible bad horrible bad horrible bad horrible bad horrible bad horrible bad horrible bad horrible bad horrible bad horrible bad horrible bad horrible bad horrible bad horrible bad horrible bad horrible bad horrible bad horrible bad horrible bad horrible bad horrible bad horrible bad horrible bad horrible bad horrible bad horrible bad horrible bad horrible bad horrible bad horrible bad horrible bad horrible bad horrible bad horrible bad horrible bad horrible bad horrible bad horrible bad horrible bad horrible bad horrible bad horrible bad horrible bad horrible bad horrible bad horrible bad horrible bad horrible bad horrible bad horrible bad horrible bad horrible bad horrible bad horrible bad horrible bad horrible bad horrible bad horrible bad horrible bad horrible bad horrible bad horrible bad horrible bad horrible bad horrible bad horrible bad horrible bad horrible bad horrible bad horrible bad horrible bad horrible bad horrible bad horrible bad horrible bad horrible bad horrible bad horrible bad horrible bad horrible bad horrible bad horrible bad horrible bad horrible bad horrible bad horrible bad horrible bad horrible bad horrible bad horrible bad horrible bad horrible bad horrible bad horrible bad horrible bad horrible bad horrible bad horrible bad horrible bad horrible bad horrible bad horrible bad horrible bad horrible bad horrible bad horrible bad horrible bad horrible bad horrible bad horrible bad horrible bad horrible bad horrible bad horrible bad horrible bad  horrible bad horrible bad horrible bad \"\n",
    "review = \"this is a really bad movie this is a really bad movie this is a really bad movie this is a really bad movie this is a really bad movie this is a really bad movie this is a really bad movie this is a really bad movie this is a really bad movie this is a really bad movie this is a really bad movie this is a really bad movie this is a really bad movie this is a really bad movie this is a really bad movie this is a really bad movie this is a really bad movie this is a really bad movie this is a really bad movie this is a really bad movie this is a really bad movie this is a really bad movie i won't see it again the main actor is horrible this is a really bad movie i won't see it again the main actor is horrible this is a really bad movie i won't see it again the main actor is horrible this is a really bad movie i won't see it again the main actor is horrible\"\n",
    "review = review.replace(\"bad\",\"horrible\")\n",
    "new_review = [word_index[i] for i in str(review).lower().split()]\n",
    "new_review = keras.preprocessing.sequence.pad_sequences([new_review],value=0,maxlen=230,padding=\"post\")\n",
    "model.predict([new_review])"
   ]
  },
  {
   "cell_type": "code",
   "execution_count": 153,
   "id": "05f00ef7",
   "metadata": {},
   "outputs": [
    {
     "data": {
      "text/plain": [
       "array([[ 11,   6,   3,  63,  75,  17,  11,   6,   3,  63,  75,  17,  11,\n",
       "          6,   3,  63,  75,  17,  11,   6,   3,  63,  75,  17,  11,   6,\n",
       "          3,  63,  75,  17,  11,   6,   3,  63,  75,  17,  11,   6,   3,\n",
       "         63,  75,  17,  11,   6,   3,  63,  75,  17,  11,   6,   3,  63,\n",
       "         75,  17,  11,   6,   3,  63,  75,  17,  11,   6,   3,  63,  75,\n",
       "         17,  11,   6,   3,  63,  75,  17,  11,   6,   3,  63,  75,  17,\n",
       "         11,   6,   3,  63,  75,  17,  11,   6,   3,  63,  75,  17,  11,\n",
       "          6,   3,  63,  75,  17,  11,   6,   3,  63,  75,  17,  11,   6,\n",
       "          3,  63,  75,  17,  11,   6,   3,  63,  75,  17,  11,   6,   3,\n",
       "         63,  75,  17,  11,   6,   3,  63,  75,  17,  11,   6,   3,  63,\n",
       "         75,  17,  10, 525,  64,   9, 171,   1, 290, 281,   6, 524,  11,\n",
       "          6,   3,  63,  75,  17,  10, 525,  64,   9, 171,   1, 290, 281,\n",
       "          6, 524,  11,   6,   3,  63,  75,  17,  10, 525,  64,   9, 171,\n",
       "          1, 290, 281,   6, 524,  11,   6,   3,  63,  75,  17,  10, 525,\n",
       "         64,   9, 171,   1, 290, 281,   6, 524,   0,   0,   0,   0,   0,\n",
       "          0,   0,   0,   0,   0,   0,   0,   0,   0,   0,   0,   0,   0,\n",
       "          0,   0,   0,   0,   0,   0,   0,   0,   0,   0,   0,   0,   0,\n",
       "          0,   0,   0,   0,   0,   0,   0,   0,   0]])"
      ]
     },
     "execution_count": 153,
     "metadata": {},
     "output_type": "execute_result"
    }
   ],
   "source": [
    "new_review"
   ]
  },
  {
   "cell_type": "code",
   "execution_count": 78,
   "id": "ec9619d7",
   "metadata": {},
   "outputs": [
    {
     "data": {
      "text/plain": [
       "230"
      ]
     },
     "execution_count": 78,
     "metadata": {},
     "output_type": "execute_result"
    }
   ],
   "source": []
  },
  {
   "cell_type": "code",
   "execution_count": 80,
   "id": "7fa080c7",
   "metadata": {},
   "outputs": [
    {
     "data": {
      "text/plain": [
       "array([0, 1, 1, ..., 0, 0, 0], dtype=int64)"
      ]
     },
     "execution_count": 80,
     "metadata": {},
     "output_type": "execute_result"
    }
   ],
   "source": []
  },
  {
   "cell_type": "code",
   "execution_count": null,
   "id": "340eed12",
   "metadata": {},
   "outputs": [],
   "source": []
  }
 ],
 "metadata": {
  "kernelspec": {
   "display_name": "Python 3",
   "language": "python",
   "name": "python3"
  },
  "language_info": {
   "codemirror_mode": {
    "name": "ipython",
    "version": 3
   },
   "file_extension": ".py",
   "mimetype": "text/x-python",
   "name": "python",
   "nbconvert_exporter": "python",
   "pygments_lexer": "ipython3",
   "version": "3.6.13"
  }
 },
 "nbformat": 4,
 "nbformat_minor": 5
}
