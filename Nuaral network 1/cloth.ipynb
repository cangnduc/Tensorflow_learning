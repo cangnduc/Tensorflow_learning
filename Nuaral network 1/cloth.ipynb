{
 "cells": [
  {
   "cell_type": "code",
   "execution_count": 24,
   "id": "5a9bd6a3",
   "metadata": {},
   "outputs": [],
   "source": [
    "import tensorflow as tf\n",
    "from tensorflow import keras\n",
    "import matplotlib.pyplot as plt\n",
    "import pandas as pd\n",
    "import numpy as np\n",
    "\n",
    "from PIL import Image"
   ]
  },
  {
   "cell_type": "code",
   "execution_count": 98,
   "id": "84ad084d",
   "metadata": {},
   "outputs": [],
   "source": [
    "data = keras.datasets.fashion_mnist.load_data()"
   ]
  },
  {
   "cell_type": "code",
   "execution_count": 35,
   "id": "40e4ca01",
   "metadata": {},
   "outputs": [],
   "source": [
    "(x_train, y_train), (x_test, y_test) = data"
   ]
  },
  {
   "cell_type": "code",
   "execution_count": 2,
   "id": "89512d60",
   "metadata": {},
   "outputs": [
    {
     "data": {
      "text/plain": [
       "['T-shirt/top',\n",
       " 'Trouser',\n",
       " 'Pullover',\n",
       " 'Dress',\n",
       " 'Coat',\n",
       " 'Sandal',\n",
       " 'Shirt',\n",
       " 'Sneaker',\n",
       " 'Bag',\n",
       " 'Ankle boot']"
      ]
     },
     "execution_count": 2,
     "metadata": {},
     "output_type": "execute_result"
    }
   ],
   "source": [
    "names = [\"T-shirt/top\",\"Trouser\",\"Pullover\",\"Dress\",\"Coat\",\"Sandal\",\"Shirt\",\"Sneaker\",\"Bag\",\"Ankle boot\"]\n",
    "names"
   ]
  },
  {
   "cell_type": "code",
   "execution_count": 43,
   "id": "0d1e75b2",
   "metadata": {},
   "outputs": [
    {
     "data": {
      "text/plain": [
       "(60000,)"
      ]
     },
     "execution_count": 43,
     "metadata": {},
     "output_type": "execute_result"
    }
   ],
   "source": [
    "y_train.shape\n"
   ]
  },
  {
   "cell_type": "markdown",
   "id": "f50115b2",
   "metadata": {},
   "source": [
    "\n"
   ]
  },
  {
   "cell_type": "code",
   "execution_count": 3,
   "id": "cb1e8da7",
   "metadata": {},
   "outputs": [],
   "source": [
    "model = keras.Sequential([\n",
    "    keras.layers.Flatten(input_shape=(28,28)),\n",
    "    keras.layers.Dense(128, activation = \"relu\"),\n",
    "    keras.layers.Dense(10,activation = \"softmax\")\n",
    "])"
   ]
  },
  {
   "cell_type": "code",
   "execution_count": 4,
   "id": "2bd54957",
   "metadata": {},
   "outputs": [
    {
     "ename": "NameError",
     "evalue": "name 'x_train' is not defined",
     "output_type": "error",
     "traceback": [
      "\u001b[1;31m---------------------------------------------------------------------------\u001b[0m",
      "\u001b[1;31mNameError\u001b[0m                                 Traceback (most recent call last)",
      "\u001b[1;32m<ipython-input-4-e42a6955f51a>\u001b[0m in \u001b[0;36m<module>\u001b[1;34m\u001b[0m\n\u001b[0;32m      1\u001b[0m \u001b[0mmodel\u001b[0m\u001b[1;33m.\u001b[0m\u001b[0mcompile\u001b[0m\u001b[1;33m(\u001b[0m\u001b[0moptimizer\u001b[0m \u001b[1;33m=\u001b[0m\u001b[1;34m\"adam\"\u001b[0m\u001b[1;33m,\u001b[0m \u001b[0mloss\u001b[0m \u001b[1;33m=\u001b[0m \u001b[1;34m\"sparse_categorical_crossentropy\"\u001b[0m\u001b[1;33m,\u001b[0m \u001b[0mmetrics\u001b[0m \u001b[1;33m=\u001b[0m\u001b[1;33m[\u001b[0m\u001b[1;34m\"accuracy\"\u001b[0m\u001b[1;33m]\u001b[0m \u001b[1;33m)\u001b[0m\u001b[1;33m\u001b[0m\u001b[1;33m\u001b[0m\u001b[0m\n\u001b[1;32m----> 2\u001b[1;33m \u001b[0mmodel\u001b[0m\u001b[1;33m.\u001b[0m\u001b[0mfit\u001b[0m\u001b[1;33m(\u001b[0m\u001b[0mx_train\u001b[0m\u001b[1;33m,\u001b[0m \u001b[0my_train\u001b[0m\u001b[1;33m,\u001b[0m\u001b[0mepochs\u001b[0m \u001b[1;33m=\u001b[0m \u001b[1;36m3\u001b[0m\u001b[1;33m,\u001b[0m\u001b[0mbatch_size\u001b[0m\u001b[1;33m=\u001b[0m\u001b[1;36m3\u001b[0m\u001b[1;33m)\u001b[0m\u001b[1;33m\u001b[0m\u001b[1;33m\u001b[0m\u001b[0m\n\u001b[0m\u001b[0;32m      3\u001b[0m \u001b[0mtest_loss\u001b[0m\u001b[1;33m,\u001b[0m \u001b[0mtest_acc\u001b[0m \u001b[1;33m=\u001b[0m \u001b[0mmodel\u001b[0m\u001b[1;33m.\u001b[0m\u001b[0mevaluate\u001b[0m\u001b[1;33m(\u001b[0m\u001b[0mx_test\u001b[0m\u001b[1;33m,\u001b[0m\u001b[0my_test\u001b[0m\u001b[1;33m)\u001b[0m\u001b[1;33m\u001b[0m\u001b[1;33m\u001b[0m\u001b[0m\n\u001b[0;32m      4\u001b[0m \u001b[0mprint\u001b[0m\u001b[1;33m(\u001b[0m\u001b[1;34m\"test Acc: \"\u001b[0m\u001b[1;33m,\u001b[0m \u001b[0mtest_acc\u001b[0m\u001b[1;33m)\u001b[0m\u001b[1;33m\u001b[0m\u001b[1;33m\u001b[0m\u001b[0m\n",
      "\u001b[1;31mNameError\u001b[0m: name 'x_train' is not defined"
     ]
    }
   ],
   "source": [
    "model.compile(optimizer =\"adam\", loss = \"sparse_categorical_crossentropy\", metrics =[\"accuracy\"] )\n",
    "model.fit(x_train, y_train,epochs = 3,batch_size=3)\n",
    "test_loss, test_acc = model.evaluate(x_test,y_test)\n",
    "print(\"test Acc: \", test_acc)"
   ]
  },
  {
   "cell_type": "code",
   "execution_count": 46,
   "id": "4d11da6e",
   "metadata": {},
   "outputs": [],
   "source": []
  },
  {
   "cell_type": "code",
   "execution_count": 59,
   "id": "31cc0182",
   "metadata": {},
   "outputs": [
    {
     "data": {
      "text/plain": [
       "dtype('uint8')"
      ]
     },
     "execution_count": 59,
     "metadata": {},
     "output_type": "execute_result"
    }
   ],
   "source": [
    "(train_images, train_labels), (test_images, test_labels) = data\n",
    "train_images = train_images/255.0\n",
    "train_labels.dtype"
   ]
  },
  {
   "cell_type": "code",
   "execution_count": 229,
   "id": "d84cad09",
   "metadata": {},
   "outputs": [
    {
     "name": "stdout",
     "output_type": "stream",
     "text": [
      "Epoch 1/5\n",
      "30000/30000 [==============================] - 28s 914us/step - loss: 0.4838 - accuracy: 0.8255\n",
      "Epoch 2/5\n",
      "30000/30000 [==============================] - 27s 889us/step - loss: 0.3874 - accuracy: 0.8611\n",
      "Epoch 3/5\n",
      "30000/30000 [==============================] - 27s 909us/step - loss: 0.3610 - accuracy: 0.8708\n",
      "Epoch 4/5\n",
      "30000/30000 [==============================] - 27s 909us/step - loss: 0.3447 - accuracy: 0.8769\n",
      "Epoch 5/5\n",
      "30000/30000 [==============================] - 27s 910us/step - loss: 0.3369 - accuracy: 0.8791\n",
      "313/313 [==============================] - 0s 845us/step - loss: 0.4499 - accuracy: 0.8547\n",
      "test Acc:  0.8547000288963318 60000\n"
     ]
    }
   ],
   "source": [
    "(train_images, train_labels), (test_images, test_labels) = data\n",
    "\n",
    "\n",
    "train_images = train_images.reshape(60000,784)\n",
    "test_images = test_images.reshape(10000, 784)\n",
    "train_images = train_images/255.0\n",
    "test_images = test_images/255.0\n",
    "model = keras.Sequential([\n",
    "    #keras.layers.Flatten(input_shape=(28,28)),\n",
    "    keras.layers.Dense(128, activation = \"relu\"),\n",
    "    keras.layers.Dense(10,activation = \"softmax\")\n",
    "])\n",
    "model.compile(optimizer =\"adam\", loss = \"sparse_categorical_crossentropy\", metrics =[\"accuracy\"] )\n",
    "model.fit(train_images,train_labels,epochs = 5,batch_size=2)\n",
    "test_loss, test_acc = model.evaluate(test_images,test_labels)\n",
    "print(\"test Acc: \", test_acc,len(train_images))"
   ]
  },
  {
   "cell_type": "code",
   "execution_count": 236,
   "id": "9bfbd9e5",
   "metadata": {},
   "outputs": [
    {
     "data": {
      "text/plain": [
       "array([[1.0817675e-08, 1.4640642e-08, 1.6378505e-17, 3.0366520e-09,\n",
       "        3.4714878e-23, 5.5985030e-04, 1.9363497e-16, 9.6225314e-02,\n",
       "        1.0213229e-09, 9.0321487e-01]], dtype=float32)"
      ]
     },
     "execution_count": 236,
     "metadata": {},
     "output_type": "execute_result"
    }
   ],
   "source": [
    "test_images = test_images.reshape(10000, 784)\n",
    "model.predict([test_images[:1]])"
   ]
  },
  {
   "cell_type": "code",
   "execution_count": null,
   "id": "a5312395",
   "metadata": {},
   "outputs": [],
   "source": []
  },
  {
   "cell_type": "code",
   "execution_count": 240,
   "id": "04db36d1",
   "metadata": {},
   "outputs": [
    {
     "name": "stdout",
     "output_type": "stream",
     "text": [
      "predict: Ankle boot Actual:  Ankle boot\n",
      "predict: Pullover Actual:  Pullover\n",
      "predict: Trouser Actual:  Trouser\n",
      "predict: Trouser Actual:  Trouser\n",
      "predict: Shirt Actual:  Shirt\n",
      "predict: Trouser Actual:  Trouser\n",
      "predict: Coat Actual:  Coat\n",
      "predict: Shirt Actual:  Shirt\n",
      "predict: Sandal Actual:  Sandal\n",
      "predict: Sneaker Actual:  Sneaker\n"
     ]
    },
    {
     "data": {
      "image/png": "[encoded data removed]",
      "text/plain": [
       "<Figure size 432x288 with 1 Axes>"
      ]
     },
     "metadata": {
      "needs_background": "light"
     },
     "output_type": "display_data"
    }
   ],
   "source": [
    "predict = model.predict(test_images)\n",
    "for i in range(10):\n",
    "    plt.grid(False)\n",
    "    actual = test_labels[i]\n",
    "    index =np.argmax(predict[i])\n",
    "    print(\"predict:\",names[index],\"Actual: \", names[actual])\n",
    "    plt.title(f\"Prediction: {names[index]}\")\n",
    "    plt.xlabel(f\"Actual: {names[actual]}\")\n",
    "    plt.imshow(test_images[i].reshape(28,28),cmap=plt.cm.binary)"
   ]
  },
  {
   "cell_type": "code",
   "execution_count": 241,
   "id": "a42cc844",
   "metadata": {
    "scrolled": true
   },
   "outputs": [
    {
     "data": {
      "text/plain": [
       "(28, 28)"
      ]
     },
     "execution_count": 241,
     "metadata": {},
     "output_type": "execute_result"
    }
   ],
   "source": [
    "from PIL import Image\n",
    "image=Image.open(\"xx.jpg\").convert('L')\n",
    "new_img = np.array(image)\n",
    "new_img.shape"
   ]
  },
  {
   "cell_type": "code",
   "execution_count": 242,
   "id": "d58be417",
   "metadata": {},
   "outputs": [
    {
     "data": {
      "text/plain": [
       "array([[0.18039216, 0.19607843, 0.2       , 0.17647059, 0.20784314,\n",
       "        0.19607843, 0.18039216, 0.19607843, 0.18823529, 0.2       ,\n",
       "        0.18039216, 0.20784314, 0.18431373, 0.20392157, 0.18823529,\n",
       "        0.2       , 0.18431373, 0.19607843, 0.18823529, 0.19607843,\n",
       "        0.18039216, 0.20392157, 0.19215686, 0.18823529, 0.19215686,\n",
       "        0.18431373, 0.20392157, 0.42745098],\n",
       "       [0.19607843, 0.2       , 0.18431373, 0.21176471, 0.17254902,\n",
       "        0.18823529, 0.2       , 0.18823529, 0.20392157, 0.20392157,\n",
       "        0.18823529, 0.18431373, 0.2       , 0.19607843, 0.19607843,\n",
       "        0.18431373, 0.19607843, 0.19215686, 0.18823529, 0.19607843,\n",
       "        0.19215686, 0.18823529, 0.20392157, 0.18823529, 0.19215686,\n",
       "        0.18823529, 0.18039216, 0.28235294],\n",
       "       [0.19215686, 0.16862745, 0.19607843, 0.18431373, 0.2       ,\n",
       "        0.17647059, 0.19215686, 0.20784314, 0.18039216, 0.17647059,\n",
       "        0.21176471, 0.18823529, 0.17647059, 0.20784314, 0.18823529,\n",
       "        0.40784314, 0.21960784, 0.18431373, 0.19607843, 0.19215686,\n",
       "        0.18039216, 0.19215686, 0.18431373, 0.2       , 0.20392157,\n",
       "        0.2       , 0.19215686, 0.19607843],\n",
       "       [0.19607843, 0.20784314, 0.19607843, 0.18823529, 0.2       ,\n",
       "        0.2       , 0.2       , 0.37647059, 0.83137255, 0.79607843,\n",
       "        0.45098039, 0.4745098 , 0.59607843, 0.78823529, 0.55294118,\n",
       "        0.55686275, 0.83921569, 0.84313725, 0.59607843, 0.51372549,\n",
       "        0.21176471, 0.18823529, 0.2       , 0.18431373, 0.19215686,\n",
       "        0.18823529, 0.19607843, 0.18823529],\n",
       "       [0.18823529, 0.19215686, 0.18431373, 0.18823529, 0.18431373,\n",
       "        0.18823529, 0.29803922, 0.68235294, 0.84705882, 0.83529412,\n",
       "        0.83529412, 0.87843137, 0.84705882, 0.83137255, 0.8627451 ,\n",
       "        0.85490196, 0.85098039, 0.87058824, 0.83529412, 0.83137255,\n",
       "        0.45490196, 0.19607843, 0.18039216, 0.2       , 0.18431373,\n",
       "        0.18823529, 0.19607843, 0.19215686],\n",
       "       [0.2       , 0.18823529, 0.19215686, 0.20392157, 0.18431373,\n",
       "        0.2       , 0.35686275, 0.50588235, 0.8627451 , 0.84313725,\n",
       "        0.85490196, 0.86666667, 0.85490196, 0.85490196, 0.85882353,\n",
       "        0.84705882, 0.84313725, 0.85098039, 0.8745098 , 0.85098039,\n",
       "        0.82352941, 0.18823529, 0.19607843, 0.18823529, 0.19215686,\n",
       "        0.20392157, 0.19607843, 0.19215686],\n",
       "       [0.2       , 0.18039216, 0.2       , 0.17647059, 0.17647059,\n",
       "        0.20392157, 0.17254902, 0.61960784, 0.84705882, 0.8627451 ,\n",
       "        0.84313725, 0.84313725, 0.86666667, 0.86666667, 0.84313725,\n",
       "        0.85098039, 0.8627451 , 0.85882353, 0.85098039, 0.8627451 ,\n",
       "        0.54901961, 0.2       , 0.18039216, 0.19215686, 0.18823529,\n",
       "        0.2       , 0.19215686, 0.18823529],\n",
       "       [0.18431373, 0.19607843, 0.18823529, 0.2       , 0.19607843,\n",
       "        0.18431373, 0.31764706, 0.6627451 , 0.85098039, 0.8627451 ,\n",
       "        0.85098039, 0.85098039, 0.85490196, 0.84705882, 0.65098039,\n",
       "        0.86666667, 0.85098039, 0.85490196, 0.85882353, 0.84705882,\n",
       "        0.53333333, 0.19607843, 0.18823529, 0.2       , 0.19215686,\n",
       "        0.19215686, 0.19215686, 0.2       ],\n",
       "       [0.18431373, 0.19607843, 0.19607843, 0.19607843, 0.19607843,\n",
       "        0.18823529, 0.35294118, 0.52156863, 0.8627451 , 0.84705882,\n",
       "        0.85098039, 0.85490196, 0.85490196, 0.42745098, 0.29411765,\n",
       "        0.85098039, 0.85490196, 0.85490196, 0.85882353, 0.85882353,\n",
       "        0.56078431, 0.2       , 0.18823529, 0.19607843, 0.19215686,\n",
       "        0.19215686, 0.19215686, 0.19215686],\n",
       "       [0.19607843, 0.18823529, 0.19215686, 0.18431373, 0.19215686,\n",
       "        0.17647059, 0.30588235, 0.70588235, 0.84313725, 0.84313725,\n",
       "        0.83921569, 0.85098039, 0.25490196, 0.18431373, 0.16470588,\n",
       "        0.30588235, 0.85098039, 0.85490196, 0.85882353, 0.85490196,\n",
       "        0.85882353, 0.18039216, 0.2       , 0.19215686, 0.19215686,\n",
       "        0.19215686, 0.19215686, 0.19215686],\n",
       "       [0.18431373, 0.2       , 0.2       , 0.19607843, 0.20392157,\n",
       "        0.2       , 0.36078431, 0.52156863, 0.84705882, 0.84313725,\n",
       "        0.85098039, 0.85098039, 0.19607843, 0.16078431, 0.17254902,\n",
       "        0.18039216, 0.8627451 , 0.84313725, 0.85098039, 0.84705882,\n",
       "        0.85882353, 0.2       , 0.19215686, 0.18039216, 0.19215686,\n",
       "        0.19215686, 0.19215686, 0.19215686],\n",
       "       [0.2       , 0.18039216, 0.20784314, 0.17254902, 0.19607843,\n",
       "        0.18039216, 0.18039216, 0.86666667, 0.86666667, 0.83921569,\n",
       "        0.85882353, 0.84313725, 0.16078431, 0.19607843, 0.18039216,\n",
       "        0.18039216, 0.85490196, 0.85490196, 0.84705882, 0.85490196,\n",
       "        0.86666667, 0.38823529, 0.19215686, 0.19607843, 0.19215686,\n",
       "        0.19215686, 0.19215686, 0.19215686],\n",
       "       [0.18431373, 0.20392157, 0.16862745, 0.19607843, 0.18431373,\n",
       "        0.20392157, 0.31372549, 0.69019608, 0.8627451 , 0.84705882,\n",
       "        0.84705882, 0.69411765, 0.19215686, 0.17254902, 0.14901961,\n",
       "        0.17647059, 0.84705882, 0.84705882, 0.8627451 , 0.83921569,\n",
       "        0.84705882, 0.48627451, 0.2       , 0.18039216, 0.19215686,\n",
       "        0.19215686, 0.19215686, 0.19215686],\n",
       "       [0.19215686, 0.21176471, 0.19215686, 0.18431373, 0.19607843,\n",
       "        0.18431373, 0.34509804, 0.5254902 , 0.84313725, 0.85098039,\n",
       "        0.85098039, 0.59215686, 0.17254902, 0.16470588, 0.24705882,\n",
       "        0.18431373, 0.85882353, 0.85098039, 0.85882353, 0.87058824,\n",
       "        0.8627451 , 0.40392157, 0.18823529, 0.19215686, 0.19215686,\n",
       "        0.19215686, 0.19215686, 0.19215686],\n",
       "       [0.18823529, 0.18039216, 0.19607843, 0.19215686, 0.20784314,\n",
       "        0.18823529, 0.2       , 0.85098039, 0.83921569, 0.8627451 ,\n",
       "        0.85490196, 0.84313725, 0.18039216, 0.17254902, 0.16078431,\n",
       "        0.16862745, 0.8745098 , 0.83921569, 0.84705882, 0.85098039,\n",
       "        0.43137255, 0.50196078, 0.18823529, 0.19607843, 0.19215686,\n",
       "        0.19215686, 0.19215686, 0.19215686],\n",
       "       [0.19607843, 0.19215686, 0.18431373, 0.2       , 0.19215686,\n",
       "        0.17647059, 0.21960784, 0.84313725, 0.8627451 , 0.84705882,\n",
       "        0.85490196, 0.85490196, 0.17647059, 0.17647059, 0.18431373,\n",
       "        0.17647059, 0.84705882, 0.85882353, 0.84313725, 0.85882353,\n",
       "        0.26666667, 0.36078431, 0.2       , 0.18823529, 0.19215686,\n",
       "        0.19215686, 0.19215686, 0.19215686],\n",
       "       [0.18823529, 0.19607843, 0.18823529, 0.19215686, 0.20784314,\n",
       "        0.19607843, 0.2       , 0.85098039, 0.84705882, 0.87058824,\n",
       "        0.84313725, 0.8627451 , 0.18431373, 0.17254902, 0.17647059,\n",
       "        0.18039216, 0.85098039, 0.85882353, 0.85882353, 0.79607843,\n",
       "        0.4745098 , 0.25490196, 0.17647059, 0.19215686, 0.19215686,\n",
       "        0.19215686, 0.19215686, 0.19215686],\n",
       "       [0.19215686, 0.2       , 0.18823529, 0.2       , 0.16078431,\n",
       "        0.2       , 0.19215686, 0.85882353, 0.8627451 , 0.84313725,\n",
       "        0.86666667, 0.85098039, 0.16078431, 0.17647059, 0.19607843,\n",
       "        0.15686275, 0.85098039, 0.85490196, 0.85490196, 0.84313725,\n",
       "        0.51764706, 0.20392157, 0.20784314, 0.18823529, 0.19215686,\n",
       "        0.19215686, 0.19215686, 0.19215686],\n",
       "       [0.18431373, 0.20392157, 0.17647059, 0.2       , 0.21960784,\n",
       "        0.18039216, 0.19215686, 0.84705882, 0.85490196, 0.85098039,\n",
       "        0.85098039, 0.85098039, 0.18431373, 0.16078431, 0.17647059,\n",
       "        0.18431373, 0.85490196, 0.84313725, 0.85490196, 0.85098039,\n",
       "        0.51764706, 0.18039216, 0.18431373, 0.2       , 0.19215686,\n",
       "        0.19215686, 0.19215686, 0.19215686],\n",
       "       [0.2       , 0.17254902, 0.20784314, 0.18823529, 0.18039216,\n",
       "        0.20392157, 0.2       , 0.61568627, 0.59607843, 0.85882353,\n",
       "        0.85490196, 0.84705882, 0.18823529, 0.18431373, 0.17254902,\n",
       "        0.18039216, 0.8627451 , 0.85490196, 0.84705882, 0.85490196,\n",
       "        0.52156863, 0.17254902, 0.2       , 0.18823529, 0.19215686,\n",
       "        0.19215686, 0.19215686, 0.19215686],\n",
       "       [0.18823529, 0.20784314, 0.20392157, 0.18039216, 0.18431373,\n",
       "        0.18823529, 0.18823529, 0.83921569, 0.55686275, 0.85098039,\n",
       "        0.87058824, 0.85490196, 0.16470588, 0.17254902, 0.17647059,\n",
       "        0.17254902, 0.84705882, 0.85098039, 0.8627451 , 0.84313725,\n",
       "        0.51372549, 0.19607843, 0.18823529, 0.19607843, 0.19215686,\n",
       "        0.19215686, 0.19215686, 0.19215686],\n",
       "       [0.18431373, 0.19607843, 0.18431373, 0.2       , 0.19215686,\n",
       "        0.19607843, 0.20392157, 0.50196078, 0.85882353, 0.85882353,\n",
       "        0.85490196, 0.86666667, 0.17647059, 0.17647059, 0.17647059,\n",
       "        0.18039216, 0.86666667, 0.85490196, 0.84313725, 0.84705882,\n",
       "        0.84313725, 0.19215686, 0.17647059, 0.18823529, 0.19215686,\n",
       "        0.19215686, 0.19215686, 0.19215686],\n",
       "       [0.2       , 0.18039216, 0.18039216, 0.20784314, 0.18431373,\n",
       "        0.18431373, 0.20392157, 0.18039216, 0.85490196, 0.85490196,\n",
       "        0.84313725, 0.85098039, 0.19607843, 0.21960784, 0.18823529,\n",
       "        0.18039216, 0.84705882, 0.85490196, 0.85882353, 0.87058824,\n",
       "        0.63137255, 0.19215686, 0.2       , 0.19215686, 0.19215686,\n",
       "        0.19215686, 0.19215686, 0.19215686],\n",
       "       [0.18823529, 0.20784314, 0.18823529, 0.18823529, 0.18823529,\n",
       "        0.2       , 0.18823529, 0.44705882, 0.60392157, 0.85490196,\n",
       "        0.8627451 , 0.85882353, 0.18823529, 0.2       , 0.16862745,\n",
       "        0.24313725, 0.85882353, 0.85098039, 0.85490196, 0.85490196,\n",
       "        0.56862745, 0.19215686, 0.18823529, 0.19607843, 0.19215686,\n",
       "        0.19215686, 0.19215686, 0.19215686],\n",
       "       [0.19215686, 0.19215686, 0.19215686, 0.19215686, 0.19215686,\n",
       "        0.19215686, 0.19607843, 0.19607843, 0.60784314, 0.85098039,\n",
       "        0.61568627, 0.57254902, 0.18431373, 0.19607843, 0.2       ,\n",
       "        0.18431373, 0.45882353, 0.61960784, 0.85490196, 0.83921569,\n",
       "        0.65882353, 0.19215686, 0.18431373, 0.19215686, 0.19215686,\n",
       "        0.19215686, 0.19215686, 0.19215686],\n",
       "       [0.19215686, 0.19215686, 0.19215686, 0.19215686, 0.19215686,\n",
       "        0.19215686, 0.19607843, 0.19607843, 0.25882353, 0.2745098 ,\n",
       "        0.18039216, 0.27843137, 0.19607843, 0.20784314, 0.17647059,\n",
       "        0.20392157, 0.29019608, 0.47843137, 0.85882353, 0.61960784,\n",
       "        0.51372549, 0.18823529, 0.2       , 0.19607843, 0.19215686,\n",
       "        0.19215686, 0.19215686, 0.19215686],\n",
       "       [0.19215686, 0.19215686, 0.19215686, 0.19215686, 0.19215686,\n",
       "        0.19215686, 0.19215686, 0.19607843, 0.20392157, 0.18431373,\n",
       "        0.19215686, 0.19215686, 0.19215686, 0.20392157, 0.18039216,\n",
       "        0.18823529, 0.20392157, 0.18823529, 0.20784314, 0.18431373,\n",
       "        0.18431373, 0.21176471, 0.17647059, 0.18823529, 0.19215686,\n",
       "        0.19215686, 0.19215686, 0.19215686],\n",
       "       [0.19215686, 0.19215686, 0.19215686, 0.19215686, 0.19215686,\n",
       "        0.19215686, 0.19215686, 0.19215686, 0.18823529, 0.2       ,\n",
       "        0.20392157, 0.18823529, 0.18039216, 0.18823529, 0.19607843,\n",
       "        0.2       , 0.19215686, 0.2       , 0.16862745, 0.20392157,\n",
       "        0.20392157, 0.18431373, 0.20392157, 0.18823529, 0.19215686,\n",
       "        0.19215686, 0.19215686, 0.19215686]])"
      ]
     },
     "execution_count": 242,
     "metadata": {},
     "output_type": "execute_result"
    }
   ],
   "source": [
    "new_img = new_img/255.0\n",
    "new_img"
   ]
  },
  {
   "cell_type": "code",
   "execution_count": 243,
   "id": "89cd3447",
   "metadata": {
    "scrolled": true
   },
   "outputs": [
    {
     "data": {
      "text/plain": [
       "<matplotlib.image.AxesImage at 0x1fe3ae5d0f0>"
      ]
     },
     "execution_count": 243,
     "metadata": {},
     "output_type": "execute_result"
    },
    {
     "data": {
      "image/png": "[encoded data removed]",
      "text/plain": [
       "<Figure size 432x288 with 1 Axes>"
      ]
     },
     "metadata": {
      "needs_background": "light"
     },
     "output_type": "display_data"
    }
   ],
   "source": [
    "\n",
    "plt.grid(False)\n",
    "plt.imshow(new_img,cmap=plt.cm.binary)\n"
   ]
  },
  {
   "cell_type": "code",
   "execution_count": 257,
   "id": "71e9c299",
   "metadata": {},
   "outputs": [
    {
     "data": {
      "text/plain": [
       "array([[1.3466771e-03, 7.6637673e-01, 4.5009414e-03, 5.7941979e-06,\n",
       "        1.8783582e-03, 2.0714943e-09, 5.0801984e-03, 1.1667118e-08,\n",
       "        2.2081128e-01, 1.1952379e-13]], dtype=float32)"
      ]
     },
     "execution_count": 257,
     "metadata": {},
     "output_type": "execute_result"
    }
   ],
   "source": [
    "g = [new_img.reshape(1,784)]\n",
    "model.predict(g)"
   ]
  },
  {
   "cell_type": "code",
   "execution_count": 258,
   "id": "26a76bbd",
   "metadata": {},
   "outputs": [
    {
     "data": {
      "text/plain": [
       "'Trouser'"
      ]
     },
     "execution_count": 258,
     "metadata": {},
     "output_type": "execute_result"
    }
   ],
   "source": [
    "#index = np.argmax(model.predict([new_img]))\n",
    "#names[index]\n",
    "index_predict = np.argmax(model.predict(g))\n",
    "names[index_predict]"
   ]
  },
  {
   "cell_type": "code",
   "execution_count": 209,
   "id": "3b4efc63",
   "metadata": {},
   "outputs": [],
   "source": [
    "b= model.predict(img.reshape(1,28,28))\n",
    "c= np.argmax(b)"
   ]
  },
  {
   "cell_type": "code",
   "execution_count": 113,
   "id": "6ffc6074",
   "metadata": {},
   "outputs": [
    {
     "data": {
      "text/plain": [
       "(8, 8)"
      ]
     },
     "execution_count": 113,
     "metadata": {},
     "output_type": "execute_result"
    }
   ],
   "source": [
    "index,c"
   ]
  },
  {
   "cell_type": "code",
   "execution_count": 217,
   "id": "40e191a5",
   "metadata": {},
   "outputs": [
    {
     "data": {
      "text/plain": [
       "array([[5.1694946e-18, 0.0000000e+00, 1.2300757e-25, 0.0000000e+00,\n",
       "        0.0000000e+00, 5.4682538e-30, 5.7372968e-19, 1.8755925e-24,\n",
       "        1.0000000e+00, 6.8416807e-25]], dtype=float32)"
      ]
     },
     "execution_count": 217,
     "metadata": {},
     "output_type": "execute_result"
    }
   ],
   "source": [
    "b\n"
   ]
  },
  {
   "cell_type": "code",
   "execution_count": 122,
   "id": "14a4e55f",
   "metadata": {},
   "outputs": [
    {
     "data": {
      "text/plain": [
       "array([0, 1, 2, 3, 4, 5, 6, 7, 8, 9], dtype=uint8)"
      ]
     },
     "execution_count": 122,
     "metadata": {},
     "output_type": "execute_result"
    }
   ],
   "source": [
    "np.unique(test_labels)"
   ]
  },
  {
   "cell_type": "code",
   "execution_count": 144,
   "id": "5337cef7",
   "metadata": {},
   "outputs": [
    {
     "data": {
      "text/plain": [
       "<matplotlib.image.AxesImage at 0x1fe35cd8b00>"
      ]
     },
     "execution_count": 144,
     "metadata": {},
     "output_type": "execute_result"
    },
    {
     "data": {
      "image/png": "[encoded data removed]",
      "text/plain": [
       "<Figure size 432x288 with 1 Axes>"
      ]
     },
     "metadata": {
      "needs_background": "light"
     },
     "output_type": "display_data"
    }
   ],
   "source": [
    "\n",
    "plt.imshow(test_images[14])"
   ]
  },
  {
   "cell_type": "code",
   "execution_count": 216,
   "id": "d44474e1",
   "metadata": {},
   "outputs": [
    {
     "data": {
      "text/plain": [
       "8"
      ]
     },
     "execution_count": 216,
     "metadata": {},
     "output_type": "execute_result"
    }
   ],
   "source": [
    "np.argmax(model.predict(img.reshape(1,28,28)))"
   ]
  },
  {
   "cell_type": "code",
   "execution_count": 172,
   "id": "034602cb",
   "metadata": {},
   "outputs": [
    {
     "data": {
      "text/plain": [
       "4"
      ]
     },
     "execution_count": 172,
     "metadata": {},
     "output_type": "execute_result"
    }
   ],
   "source": [
    "test_labels[14]"
   ]
  },
  {
   "cell_type": "code",
   "execution_count": 181,
   "id": "e1c33f33",
   "metadata": {},
   "outputs": [
    {
     "data": {
      "text/plain": [
       "array([[8.3603827e-12, 4.4953389e-36, 1.3760809e-17, 5.2290319e-34,\n",
       "        1.1940832e-13, 2.7634657e-18, 1.7667929e-08, 1.5433586e-28,\n",
       "        1.0000000e+00, 1.0255921e-27]], dtype=float32)"
      ]
     },
     "execution_count": 181,
     "metadata": {},
     "output_type": "execute_result"
    }
   ],
   "source": [
    "model.predict(img.reshape(1,28,28))"
   ]
  },
  {
   "cell_type": "code",
   "execution_count": null,
   "id": "2f1a8a5c",
   "metadata": {},
   "outputs": [],
   "source": []
  },
  {
   "cell_type": "code",
   "execution_count": null,
   "id": "38c0898a",
   "metadata": {},
   "outputs": [],
   "source": []
  },
  {
   "cell_type": "code",
   "execution_count": null,
   "id": "382ba501",
   "metadata": {},
   "outputs": [],
   "source": []
  }
 ],
 "metadata": {
  "kernelspec": {
   "display_name": "Python 3",
   "language": "python",
   "name": "python3"
  },
  "language_info": {
   "codemirror_mode": {
    "name": "ipython",
    "version": 3
   },
   "file_extension": ".py",
   "mimetype": "text/x-python",
   "name": "python",
   "nbconvert_exporter": "python",
   "pygments_lexer": "ipython3",
   "version": "3.6.13"
  }
 },
 "nbformat": 4,
 "nbformat_minor": 5
}
