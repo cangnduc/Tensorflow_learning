{
  "nbformat": 4,
  "nbformat_minor": 0,
  "metadata": {
    "colab": {
      "name": "textclassification.ipynb",
      "provenance": [],
      "toc_visible": true,
      "authorship_tag": "ABX9TyPU4lfihiytLKXjhWPx5tEn",
      "include_colab_link": true
    },
    "kernelspec": {
      "name": "python3",
      "display_name": "Python 3"
    },
    "language_info": {
      "name": "python"
    },
    "accelerator": "GPU",
    "gpuClass": "standard"
  },
  "cells": [
    {
      "cell_type": "markdown",
      "metadata": {
        "id": "view-in-github",
        "colab_type": "text"
      },
      "source": [
        "<a href=\"https://colab.research.google.com/github/cangnduc/Tensorflow_learning/blob/main/textclassification.ipynb\" target=\"_parent\"><img src=\"https://colab.research.google.com/assets/colab-badge.svg\" alt=\"Open In Colab\"/></a>"
      ]
    },
    {
      "cell_type": "code",
      "execution_count": 1,
      "metadata": {
        "id": "v9D7nELQUSOb"
      },
      "outputs": [],
      "source": [
        "import pandas as pd\n",
        "import numpy as np\n",
        "import tensorflow as tf\n",
        "from tensorflow import keras"
      ]
    },
    {
      "cell_type": "code",
      "source": [
        "data = keras.datasets.imdb\n",
        "(train_data, train_labels), (test_data, test_labels) = data.load_data(num_words=80000)\n",
        "word_index = data.get_word_index()"
      ],
      "metadata": {
        "colab": {
          "base_uri": "https://localhost:8080/"
        },
        "id": "47sc2Gu1UdXx",
        "outputId": "5a5ab71e-f642-480b-cd9c-d07b9616acb0"
      },
      "execution_count": 9,
      "outputs": [
        {
          "output_type": "stream",
          "name": "stdout",
          "text": [
            "Downloading data from https://storage.googleapis.com/tensorflow/tf-keras-datasets/imdb_word_index.json\n",
            "1646592/1641221 [==============================] - 0s 0us/step\n",
            "1654784/1641221 [==============================] - 0s 0us/step\n"
          ]
        }
      ]
    },
    {
      "cell_type": "code",
      "source": [
        "word_index = {k:(v+3) for k,v in word_index.items()}\n",
        "word_index[\"<PAD>\"] = 0\n",
        "word_index[\"<START>\"] = 1\n",
        "word_index[\"<UNK>\"] = 2\n",
        "word_index[\"<UNUSED>\"] = 3"
      ],
      "metadata": {
        "id": "IfTmzOw6U7TW"
      },
      "execution_count": 17,
      "outputs": []
    },
    {
      "cell_type": "code",
      "source": [
        "reverse_word_index = dict([(value,key) for (key,value) in word_index.items()])"
      ],
      "metadata": {
        "id": "4uHYubLSVXTJ"
      },
      "execution_count": 18,
      "outputs": []
    },
    {
      "cell_type": "code",
      "source": [
        "def decode_review(text):\n",
        "  return \" \".join([reverse_word_index.get(i,\"?\")for i in text])\n",
        "\n",
        "print(decode_review(test_data[0]))"
      ],
      "metadata": {
        "id": "NqGwaraSX-VX",
        "outputId": "cb2773de-fc31-453c-b437-b1a82047d295",
        "colab": {
          "base_uri": "https://localhost:8080/"
        }
      },
      "execution_count": 22,
      "outputs": [
        {
          "output_type": "stream",
          "name": "stdout",
          "text": [
            "<START> please give this one a miss br br kristy swanson and the rest of the cast rendered terrible performances the show is flat flat flat br br i don't know how michael madison could have allowed this one on his plate he almost seemed to know this wasn't going to work out and his performance was quite lacklustre so all you madison fans give this a miss\n"
          ]
        }
      ]
    },
    {
      "cell_type": "code",
      "source": [
        "print(decode_review(train_data[1]))"
      ],
      "metadata": {
        "id": "VuB6UmZlYBAb",
        "outputId": "1e1efc35-4f9f-4434-ca6c-1b1854d4e4b2",
        "colab": {
          "base_uri": "https://localhost:8080/"
        }
      },
      "execution_count": 24,
      "outputs": [
        {
          "output_type": "stream",
          "name": "stdout",
          "text": [
            "<START> big hair big boobs bad music and a giant safety pin these are the words to best describe this terrible movie i love cheesy horror movies and i've seen hundreds but this had got to be on of the worst ever made the plot is paper thin and ridiculous the acting is an abomination the script is completely laughable the best is the end showdown with the cop and how he worked out who the killer is it's just so damn terribly written the clothes are sickening and funny in equal measures the hair is big lots of boobs bounce men wear those cut tee shirts that show off their stomachs sickening that men actually wore them and the music is just synthesiser trash that plays over and over again in almost every scene there is trashy music boobs and paramedics taking away bodies and the gym still doesn't close for bereavement all joking aside this is a truly bad film whose only charm is to look back on the disaster that was the 80's and have a good old laugh at how bad everything was back then\n"
          ]
        }
      ]
    },
    {
      "cell_type": "code",
      "source": [
        "train_data = keras.preprocessing.sequence.pad_sequences(train_data, value =word_index[\"<PAD>\"], maxlen=255,padding = \"post\")\n",
        "test_data = keras.preprocessing.sequence.pad_sequences(test_data, value =word_index[\"<PAD>\"], maxlen=255,padding = \"post\")"
      ],
      "metadata": {
        "id": "rID7drUKfhK_"
      },
      "execution_count": 29,
      "outputs": []
    },
    {
      "cell_type": "code",
      "source": [
        "model = keras.Sequential()\n",
        "model.add(keras.layers.Embedding(80000,16))\n",
        "model.add(keras.layers.GlobalAveragePooling1D())\n",
        "model.add(keras.layers.Dense(16,activation = 'relu'))\n",
        "model.add(keras.layers.Dense(1,activation = 'sigmoid'))\n",
        "model.summary()\n",
        "model.compile(optimizer='adam', loss ='binary_crossentropy',metrics = ['accuracy'])\n",
        "x_val = train_data[:10000]\n",
        "x_train = train_data[10000:]\n",
        "y_val = train_labels[:10000]\n",
        "y_train = train_labels[10000:]\n",
        "fitModel = model.fit(x_train,y_train,epochs=40,batch_size=512,validation_data=(x_val,y_val),verbose=1)\n",
        "result = model.evaluate(test_data,test_labels)\n",
        "print(result)"
      ],
      "metadata": {
        "id": "gjZsZfDsfooO",
        "outputId": "9d3acca6-9b80-452d-f71a-7b79da8aa891",
        "colab": {
          "base_uri": "https://localhost:8080/"
        }
      },
      "execution_count": 34,
      "outputs": [
        {
          "output_type": "stream",
          "name": "stdout",
          "text": [
            "Model: \"sequential_4\"\n",
            "_________________________________________________________________\n",
            " Layer (type)                Output Shape              Param #   \n",
            "=================================================================\n",
            " embedding_4 (Embedding)     (None, None, 16)          1280000   \n",
            "                                                                 \n",
            " global_average_pooling1d_3   (None, 16)               0         \n",
            " (GlobalAveragePooling1D)                                        \n",
            "                                                                 \n",
            " dense_6 (Dense)             (None, 16)                272       \n",
            "                                                                 \n",
            " dense_7 (Dense)             (None, 1)                 17        \n",
            "                                                                 \n",
            "=================================================================\n",
            "Total params: 1,280,289\n",
            "Trainable params: 1,280,289\n",
            "Non-trainable params: 0\n",
            "_________________________________________________________________\n",
            "Epoch 1/40\n",
            "30/30 [==============================] - 1s 11ms/step - loss: 0.6923 - accuracy: 0.5272 - val_loss: 0.6910 - val_accuracy: 0.5800\n",
            "Epoch 2/40\n",
            "30/30 [==============================] - 0s 6ms/step - loss: 0.6879 - accuracy: 0.7108 - val_loss: 0.6848 - val_accuracy: 0.7273\n",
            "Epoch 3/40\n",
            "30/30 [==============================] - 0s 7ms/step - loss: 0.6781 - accuracy: 0.7359 - val_loss: 0.6727 - val_accuracy: 0.7619\n",
            "Epoch 4/40\n",
            "30/30 [==============================] - 0s 7ms/step - loss: 0.6602 - accuracy: 0.7913 - val_loss: 0.6525 - val_accuracy: 0.7767\n",
            "Epoch 5/40\n",
            "30/30 [==============================] - 0s 7ms/step - loss: 0.6323 - accuracy: 0.8031 - val_loss: 0.6237 - val_accuracy: 0.7860\n",
            "Epoch 6/40\n",
            "30/30 [==============================] - 0s 7ms/step - loss: 0.5949 - accuracy: 0.8161 - val_loss: 0.5875 - val_accuracy: 0.8008\n",
            "Epoch 7/40\n",
            "30/30 [==============================] - 0s 7ms/step - loss: 0.5509 - accuracy: 0.8335 - val_loss: 0.5478 - val_accuracy: 0.8111\n",
            "Epoch 8/40\n",
            "30/30 [==============================] - 0s 7ms/step - loss: 0.5038 - accuracy: 0.8492 - val_loss: 0.5083 - val_accuracy: 0.8266\n",
            "Epoch 9/40\n",
            "30/30 [==============================] - 0s 7ms/step - loss: 0.4579 - accuracy: 0.8661 - val_loss: 0.4718 - val_accuracy: 0.8365\n",
            "Epoch 10/40\n",
            "30/30 [==============================] - 0s 7ms/step - loss: 0.4147 - accuracy: 0.8804 - val_loss: 0.4393 - val_accuracy: 0.8443\n",
            "Epoch 11/40\n",
            "30/30 [==============================] - 0s 7ms/step - loss: 0.3763 - accuracy: 0.8903 - val_loss: 0.4100 - val_accuracy: 0.8537\n",
            "Epoch 12/40\n",
            "30/30 [==============================] - 0s 7ms/step - loss: 0.3422 - accuracy: 0.9002 - val_loss: 0.3854 - val_accuracy: 0.8604\n",
            "Epoch 13/40\n",
            "30/30 [==============================] - 0s 7ms/step - loss: 0.3118 - accuracy: 0.9083 - val_loss: 0.3650 - val_accuracy: 0.8668\n",
            "Epoch 14/40\n",
            "30/30 [==============================] - 0s 7ms/step - loss: 0.2849 - accuracy: 0.9152 - val_loss: 0.3487 - val_accuracy: 0.8692\n",
            "Epoch 15/40\n",
            "30/30 [==============================] - 0s 7ms/step - loss: 0.2614 - accuracy: 0.9215 - val_loss: 0.3339 - val_accuracy: 0.8754\n",
            "Epoch 16/40\n",
            "30/30 [==============================] - 0s 6ms/step - loss: 0.2405 - accuracy: 0.9280 - val_loss: 0.3226 - val_accuracy: 0.8768\n",
            "Epoch 17/40\n",
            "30/30 [==============================] - 0s 6ms/step - loss: 0.2223 - accuracy: 0.9337 - val_loss: 0.3135 - val_accuracy: 0.8797\n",
            "Epoch 18/40\n",
            "30/30 [==============================] - 0s 7ms/step - loss: 0.2056 - accuracy: 0.9388 - val_loss: 0.3053 - val_accuracy: 0.8803\n",
            "Epoch 19/40\n",
            "30/30 [==============================] - 0s 7ms/step - loss: 0.1907 - accuracy: 0.9431 - val_loss: 0.2989 - val_accuracy: 0.8820\n",
            "Epoch 20/40\n",
            "30/30 [==============================] - 0s 7ms/step - loss: 0.1773 - accuracy: 0.9485 - val_loss: 0.2935 - val_accuracy: 0.8832\n",
            "Epoch 21/40\n",
            "30/30 [==============================] - 0s 6ms/step - loss: 0.1648 - accuracy: 0.9535 - val_loss: 0.2898 - val_accuracy: 0.8852\n",
            "Epoch 22/40\n",
            "30/30 [==============================] - 0s 6ms/step - loss: 0.1535 - accuracy: 0.9584 - val_loss: 0.2857 - val_accuracy: 0.8858\n",
            "Epoch 23/40\n",
            "30/30 [==============================] - 0s 6ms/step - loss: 0.1434 - accuracy: 0.9614 - val_loss: 0.2834 - val_accuracy: 0.8854\n",
            "Epoch 24/40\n",
            "30/30 [==============================] - 0s 7ms/step - loss: 0.1339 - accuracy: 0.9648 - val_loss: 0.2811 - val_accuracy: 0.8869\n",
            "Epoch 25/40\n",
            "30/30 [==============================] - 0s 7ms/step - loss: 0.1246 - accuracy: 0.9685 - val_loss: 0.2786 - val_accuracy: 0.8877\n",
            "Epoch 26/40\n",
            "30/30 [==============================] - 0s 7ms/step - loss: 0.1166 - accuracy: 0.9719 - val_loss: 0.2778 - val_accuracy: 0.8876\n",
            "Epoch 27/40\n",
            "30/30 [==============================] - 0s 7ms/step - loss: 0.1094 - accuracy: 0.9749 - val_loss: 0.2769 - val_accuracy: 0.8891\n",
            "Epoch 28/40\n",
            "30/30 [==============================] - 0s 6ms/step - loss: 0.1022 - accuracy: 0.9770 - val_loss: 0.2768 - val_accuracy: 0.8890\n",
            "Epoch 29/40\n",
            "30/30 [==============================] - 0s 6ms/step - loss: 0.0956 - accuracy: 0.9790 - val_loss: 0.2766 - val_accuracy: 0.8888\n",
            "Epoch 30/40\n",
            "30/30 [==============================] - 0s 7ms/step - loss: 0.0897 - accuracy: 0.9810 - val_loss: 0.2773 - val_accuracy: 0.8893\n",
            "Epoch 31/40\n",
            "30/30 [==============================] - 0s 7ms/step - loss: 0.0845 - accuracy: 0.9823 - val_loss: 0.2775 - val_accuracy: 0.8888\n",
            "Epoch 32/40\n",
            "30/30 [==============================] - 0s 6ms/step - loss: 0.0790 - accuracy: 0.9837 - val_loss: 0.2784 - val_accuracy: 0.8895\n",
            "Epoch 33/40\n",
            "30/30 [==============================] - 0s 7ms/step - loss: 0.0745 - accuracy: 0.9851 - val_loss: 0.2793 - val_accuracy: 0.8885\n",
            "Epoch 34/40\n",
            "30/30 [==============================] - 0s 7ms/step - loss: 0.0698 - accuracy: 0.9864 - val_loss: 0.2806 - val_accuracy: 0.8882\n",
            "Epoch 35/40\n",
            "30/30 [==============================] - 0s 7ms/step - loss: 0.0656 - accuracy: 0.9877 - val_loss: 0.2817 - val_accuracy: 0.8906\n",
            "Epoch 36/40\n",
            "30/30 [==============================] - 0s 6ms/step - loss: 0.0617 - accuracy: 0.9889 - val_loss: 0.2842 - val_accuracy: 0.8889\n",
            "Epoch 37/40\n",
            "30/30 [==============================] - 0s 6ms/step - loss: 0.0583 - accuracy: 0.9898 - val_loss: 0.2849 - val_accuracy: 0.8884\n",
            "Epoch 38/40\n",
            "30/30 [==============================] - 0s 6ms/step - loss: 0.0547 - accuracy: 0.9910 - val_loss: 0.2866 - val_accuracy: 0.8898\n",
            "Epoch 39/40\n",
            "30/30 [==============================] - 0s 7ms/step - loss: 0.0515 - accuracy: 0.9917 - val_loss: 0.2894 - val_accuracy: 0.8891\n",
            "Epoch 40/40\n",
            "30/30 [==============================] - 0s 7ms/step - loss: 0.0486 - accuracy: 0.9923 - val_loss: 0.2905 - val_accuracy: 0.8891\n",
            "782/782 [==============================] - 2s 2ms/step - loss: 0.3223 - accuracy: 0.8737\n",
            "[0.32231274247169495, 0.8737199902534485]\n"
          ]
        }
      ]
    },
    {
      "cell_type": "code",
      "source": [
        "model.save(\"file.h5\")"
      ],
      "metadata": {
        "id": "WFpDjGgQh1Tv"
      },
      "execution_count": 35,
      "outputs": []
    },
    {
      "cell_type": "code",
      "source": [
        ""
      ],
      "metadata": {
        "id": "jpPWXtc0pyM5"
      },
      "execution_count": null,
      "outputs": []
    }
  ]
}